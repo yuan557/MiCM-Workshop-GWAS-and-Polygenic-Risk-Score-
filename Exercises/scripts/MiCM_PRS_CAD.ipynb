{
  "nbformat": 4,
  "nbformat_minor": 0,
  "metadata": {
    "colab": {
      "provenance": [],
      "toc_visible": true
    },
    "kernelspec": {
      "name": "python3",
      "display_name": "Python 3"
    },
    "language_info": {
      "name": "python"
    }
  },
  "cells": [
    {
      "cell_type": "markdown",
      "source": [
        "Polygenic Risk Score: Workshop Exercise with Coronary Artery Disease"
      ],
      "metadata": {
        "id": "emK1tmxsPr0w"
      }
    },
    {
      "cell_type": "markdown",
      "source": [
        "Code adapted from MiCM GWAS & PRS workshop by Zoe Schmilovich, PhD (2024 June)"
      ],
      "metadata": {
        "id": "zJp1MT0993tC"
      }
    },
    {
      "cell_type": "markdown",
      "source": [
        "# Install tools\n",
        "\n"
      ],
      "metadata": {
        "id": "LyF-olC3-kHk"
      }
    },
    {
      "cell_type": "markdown",
      "source": [
        "STEP 1. Install commandline tool for retrieving data from Google Drive"
      ],
      "metadata": {
        "id": "SVkHpx34RXEX"
      }
    },
    {
      "cell_type": "code",
      "source": [
        "!pip install gdown"
      ],
      "metadata": {
        "id": "rH3YkJICP0QW"
      },
      "execution_count": null,
      "outputs": []
    },
    {
      "cell_type": "markdown",
      "source": [
        "STEP 2. Install plink2"
      ],
      "metadata": {
        "id": "0Y6kTzl2PsGs"
      }
    },
    {
      "cell_type": "code",
      "source": [
        "!wget https://s3.amazonaws.com/plink2-assets/plink2_linux_x86_64_20250806.zip\n",
        "!unzip plink2_linux_x86_64_20250806.zip\n",
        "!mv plink2 /usr/local/bin/"
      ],
      "metadata": {
        "id": "EYeTamE6Rfaq"
      },
      "execution_count": null,
      "outputs": []
    },
    {
      "cell_type": "markdown",
      "source": [
        "# Visualization summary statistics of CAD GWAS"
      ],
      "metadata": {
        "id": "8JfB4TJIAhpA"
      }
    },
    {
      "cell_type": "markdown",
      "source": [
        "STEP 3. Download summary statistics of GWAS of CAD from van der Herst et al. (2018)"
      ],
      "metadata": {
        "id": "rLOUifmlTkbP"
      }
    },
    {
      "cell_type": "code",
      "source": [
        "# acquire summary statistics from Google drive\n",
        "# file name: raw_cad_gwas_sum_stats\n",
        "!gdown --id 1tgLX51-EShA4ZwroxTbjoNhbvsxc2V-y"
      ],
      "metadata": {
        "id": "71Gfr5e6s7Pn"
      },
      "execution_count": null,
      "outputs": []
    },
    {
      "cell_type": "markdown",
      "source": [
        "STEP 4.Visualize summary statistics with Manhattan plot"
      ],
      "metadata": {
        "id": "OIY78awVtYNy"
      }
    },
    {
      "cell_type": "code",
      "source": [
        "import pandas as pd\n",
        "import matplotlib.pyplot as plt\n",
        "import matplotlib.cm as cm\n",
        "import numpy as np\n",
        "\n",
        "# CAD GWAS sumstats we just downloaded\n",
        "input_file = \"raw_cad_gwas_sum_stats\"\n",
        "\n",
        "# Load sumstats (tab separated file)\n",
        "df = pd.read_csv(input_file, delim_whitespace=True)\n",
        "\n",
        "# Data cleaning: keep only autosomes (1-22) and drop NA pvals\n",
        "df = df[df['chr'].astype(str).isin([str(i) for i in range(1, 23)])]\n",
        "df = df.dropna(subset=['pval'])\n",
        "\n",
        "# Convert chromosome and basepair positions to numeric, p-value to float\n",
        "df['chr'] = df['chr'].astype(int)\n",
        "df['bp'] = df['bp'].astype(int)\n",
        "df['pval'] = df['pval'].astype(float)\n",
        "\n",
        "# Sort by chromosome and base pair\n",
        "df = df.sort_values(['chr', 'bp'])\n",
        "\n",
        "# Compute -log10(p), this will be the Y-axis\n",
        "df['-log10p'] = -np.log10(df['pval'])\n",
        "\n",
        "# Cumulative basepairs\n",
        "cumulative_bp = 0\n",
        "ticks = []\n",
        "labels = []\n",
        "for chrom in sorted(df['chr'].unique()):\n",
        "\n",
        "    # create a chromosome mask (true/false)\n",
        "    chr_mask = df['chr'] == chrom\n",
        "\n",
        "    # create a new column for cumulative position for visualization\n",
        "    # for each chromosome, set cum_bp as to 0 (by substracting actual basepair value by min basepair)\n",
        "    # then add cumulative basepair to reflect global position\n",
        "    df.loc[chr_mask, 'cum_bp'] = df.loc[chr_mask, 'bp'] - df.loc[chr_mask, 'bp'].min() + cumulative_bp\n",
        "\n",
        "    # place the chromosome number at the middle of each chromosome block\n",
        "    # then save the chromosome number as a string for labeling the x axis\n",
        "    ticks.append(df.loc[chr_mask, 'cum_bp'].median())\n",
        "    labels.append(str(chrom))\n",
        "\n",
        "    # Add a fixed gap between chromosomes for visibility\n",
        "    cumulative_bp += (df.loc[chr_mask, 'bp'].max() - df.loc[chr_mask, 'bp'].min()) + 1e6\n",
        "\n",
        "\n",
        "# Assign fixed color per chromosome\n",
        "chromosomes = sorted(df['chr'].unique())\n",
        "cmap = cm.get_cmap('tab20', len(chromosomes))\n",
        "chrom_colors = {chrom: cmap(i) for i, chrom in enumerate(chromosomes)}\n",
        "\n",
        "# Plot\n",
        "plt.figure(figsize=(18, 6))\n",
        "for chrom in chromosomes:\n",
        "    chr_data = df[df['chr'] == chrom]\n",
        "    plt.scatter(chr_data['cum_bp'], chr_data['-log10p'],\n",
        "                color=chrom_colors[chrom], s=6)\n",
        "\n",
        "# Significance line\n",
        "plt.axhline(y=-np.log10(5e-8), color='red', linestyle='--', linewidth=1)\n",
        "\n",
        "plt.xticks(ticks, labels)\n",
        "plt.xlabel('Chromosome')\n",
        "plt.ylabel('-log10(p-value)')\n",
        "plt.title('Manhattan plot of CAD GWAS')\n",
        "plt.tight_layout()\n",
        "plt.show()"
      ],
      "metadata": {
        "id": "UA4njWzF8yno"
      },
      "execution_count": null,
      "outputs": []
    },
    {
      "cell_type": "markdown",
      "source": [
        "STEP 5. Visualize SNPs by p-value"
      ],
      "metadata": {
        "id": "Bmm7cpV0-p8X"
      }
    },
    {
      "cell_type": "code",
      "source": [
        "import pandas as pd\n",
        "import matplotlib.pyplot as plt\n",
        "import numpy as np\n",
        "\n",
        "# CAD GWAS sumstats we just downloaded\n",
        "input_file = \"raw_cad_gwas_sum_stats\"\n",
        "\n",
        "# Load sumstats (tab separated file)\n",
        "df = pd.read_csv(input_file, delim_whitespace=True)\n",
        "\n",
        "# Define the thresholds\n",
        "thresholds = [1e-4, 1e-5, 1e-6, 5e-8]\n",
        "\n",
        "# Count the number of SNPs below each threshold\n",
        "counts = [np.sum(df['pval'] < threshold) for threshold in thresholds]\n",
        "\n",
        "# Create the bar plot\n",
        "plt.figure(figsize=(10, 6))\n",
        "plt.bar([str(thresh) for thresh in thresholds], counts, color='blue')\n",
        "\n",
        "# Add labels and title\n",
        "plt.xlabel('P-value Thresholds')\n",
        "plt.ylabel('Number of SNPs')\n",
        "plt.title('Number of SNPs at Different P-value Thresholds')\n",
        "plt.legend()\n",
        "\n",
        "# Show the plot\n",
        "plt.show()"
      ],
      "metadata": {
        "id": "MBp_be4e-9UX"
      },
      "execution_count": null,
      "outputs": []
    },
    {
      "cell_type": "markdown",
      "source": [
        "# Preprocessing of Individual Genotyping Data"
      ],
      "metadata": {
        "id": "vLO5yyL3_n-I"
      }
    },
    {
      "cell_type": "markdown",
      "source": [
        "STEP 1. Download the genotype data of a portion of European participants from 1000 Genomes Consortium"
      ],
      "metadata": {
        "id": "EZ91A1RFAxeL"
      }
    },
    {
      "cell_type": "markdown",
      "source": [
        "\n",
        "Binary files contain genotyped data of 44,000 genetic variants and 628 participants. These individuals do not contain more than 1% missing genotyping"
      ],
      "metadata": {
        "id": "d-nL3GkZIO9o"
      }
    },
    {
      "cell_type": "markdown",
      "source": [
        "Data processed by Kevin Liang, PhD"
      ],
      "metadata": {
        "id": "AeLCg1SbJPbm"
      }
    },
    {
      "cell_type": "code",
      "source": [
        "# EUR contains plink binary files (bed bim fam)\n",
        "!gdown 1s_5XroEhHM5uc_brlZGKZbmwPutM6Td-\n",
        "!unzip EUR.zip"
      ],
      "metadata": {
        "id": "FJnJWbd6A8R9"
      },
      "execution_count": null,
      "outputs": []
    },
    {
      "cell_type": "markdown",
      "source": [
        "STEP 2. Download mock (simulated) phenotype data"
      ],
      "metadata": {
        "id": "FnipyxwTBM2j"
      }
    },
    {
      "cell_type": "code",
      "source": [
        "# CAD_phenotypes.txt contains ID and phenotype (0 or 1)\n",
        "!gdown 1cclXWTnzkbxAoYwmiC1phihS3seDBTyp"
      ],
      "metadata": {
        "id": "vyor46XeEqfO"
      },
      "execution_count": null,
      "outputs": []
    },
    {
      "cell_type": "markdown",
      "source": [
        "STEP 3. Integrate genotype with phenotype\n",
        "\n",
        "\n",
        "\n",
        "\n",
        "*   ``` --bfile``` reads binary files of genotype data\n",
        "*   ``` --pheno``` specifies phenotype of participants\n",
        "*   ``` --make-bed``` tells plink to output binary files\n",
        "*   ``` --out``` specifies output directory and file name\n"
      ],
      "metadata": {
        "id": "LUYMWGEUABeL"
      }
    },
    {
      "cell_type": "code",
      "source": [
        "# this generates binary files with phenotype integrated\n",
        "!plink2 --bfile EUR --pheno CAD_phenotypes.txt --make-bed --out CAD_case_control"
      ],
      "metadata": {
        "id": "YRG4ceEVMEuu"
      },
      "execution_count": null,
      "outputs": []
    },
    {
      "cell_type": "markdown",
      "source": [
        "Visualize minor allele frequency (MAF) of all SNPs in 628 individuals\n",
        "*   ```--freq``` tells plink to output the frequency of the alleles"
      ],
      "metadata": {
        "id": "KxER9F6xclXc"
      }
    },
    {
      "cell_type": "code",
      "source": [
        "# this generates an allele frequency file (.afreq) for all SNPs\n",
        "!plink2 --bfile CAD_case_control --freq --out freq_counts"
      ],
      "metadata": {
        "id": "1JfFGik5cvV-"
      },
      "execution_count": null,
      "outputs": []
    },
    {
      "cell_type": "markdown",
      "source": [
        "Load freq_count.afreq into python"
      ],
      "metadata": {
        "id": "bPAMkMI8dDD5"
      }
    },
    {
      "cell_type": "code",
      "source": [
        "import pandas as pd\n",
        "import matplotlib.pyplot as plt\n",
        "\n",
        "# Read the .afreq file into a pandas DataFrame\n",
        "afreq_df = pd.read_csv(\"freq_counts.afreq\", delim_whitespace=True)\n",
        "\n",
        "# Display the first few rows of the DataFrame\n",
        "print(afreq_df.head())\n",
        "\n",
        "plt.figure(figsize=(10, 6))\n",
        "plt.hist(afreq_df['ALT_FREQS'], bins=50, edgecolor='k', alpha=0.7)\n",
        "plt.axvline(x=0.01, color='red', linestyle='--', linewidth=1.5, label='MAF 0.01')\n",
        "\n",
        "plt.xlabel('Alternative Allele Frequency')\n",
        "plt.ylabel('Number of Variants')\n",
        "plt.title('Distribution of Alternative Allele Frequencies')\n",
        "plt.grid(True)\n",
        "plt.legend()\n",
        "plt.show()"
      ],
      "metadata": {
        "id": "s4XqdVKWdMxs"
      },
      "execution_count": null,
      "outputs": []
    },
    {
      "cell_type": "markdown",
      "source": [
        "STEP 4. Exclude SNPs with extremely low frequency, SNPs with low genotyping rate and SNPSs that violate the Hardy-Weinberg equilibrium\n",
        "\n",
        "\n",
        "\n",
        "*   ```--maf 0.01``` excludes SNPs that occurs in less than 1% of population\n",
        "*   ```--geno 0.1``` excludes SNPs with more than 10% genotype rate\n",
        "*   ```---hwe 0.0001``` excludes SNPs that violate H-W equilibirium, less than Chisq P-value threshold of 0.0001\n",
        "\n"
      ],
      "metadata": {
        "id": "SRbb7zUfNTwB"
      }
    },
    {
      "cell_type": "code",
      "source": [
        "# this generates thresholded binary files\n",
        "!plink2 --bfile CAD_case_control --maf 0.01 --geno 0.1 --hwe 0.0001 --make-bed --out CAD_maf-0.01_geno-0.1_hwe-1e4"
      ],
      "metadata": {
        "id": "zSCcjn00OuXf"
      },
      "execution_count": null,
      "outputs": []
    },
    {
      "cell_type": "markdown",
      "source": [
        "STEP 5a. Run LD pruning, to ensure independence of SNPs when scoring PRS.  \n",
        "\n",
        "\n",
        "* ```--indep-pairwise <window> <step-size> <LD threshold> ``` removes SNPs that are correlated, with a stepwise sliding window at the specified threshold (we will use Rsq > 0.2)\n",
        "\n"
      ],
      "metadata": {
        "id": "TXcsRdyGO9H3"
      }
    },
    {
      "cell_type": "code",
      "source": [
        "# this generates .in and .out file, .in file contains variants that are independent\n",
        "!plink2 --bfile CAD_maf-0.01_geno-0.1_hwe-1e4 --indep-pairwise 50 5 0.2 --out CAD_ld_pruned"
      ],
      "metadata": {
        "id": "_1usUFpoXLXt"
      },
      "execution_count": null,
      "outputs": []
    },
    {
      "cell_type": "markdown",
      "source": [
        "STEP 5b. Create binary files from list of SNPs that are LD pruned (independent from each other)\n",
        "*  ```--extract``` tells plink to use a certain set of SNPs"
      ],
      "metadata": {
        "id": "B_Mb4p2rX1T2"
      }
    },
    {
      "cell_type": "code",
      "source": [
        "# this generates binary files from the .in file of LD pruning\n",
        "!plink2 --bfile CAD_maf-0.01_geno-0.1_hwe-1e4 --extract CAD_ld_pruned.prune.in --make-bed --out CAD_EUR_QCed"
      ],
      "metadata": {
        "id": "1qytEvBpYC7D"
      },
      "execution_count": null,
      "outputs": []
    },
    {
      "cell_type": "markdown",
      "source": [
        "# Use PRS-CS to calculate weight of each SNP in PRS scoring"
      ],
      "metadata": {
        "id": "kB9jIlx4Yply"
      }
    },
    {
      "cell_type": "markdown",
      "source": [
        " Since PRS-CS is computationally intensive, we will use pre-downloaded PRSice weights of CAD for downstream analysis."
      ],
      "metadata": {
        "id": "dQFzGxCxZ0IG"
      }
    },
    {
      "cell_type": "code",
      "source": [
        "# Clone the PRS-CS repository\n",
        "!git clone https://github.com/getian107/PRScs.git\n",
        "\n",
        "# Navigate to the PRS-CS directory\n",
        "%cd PRScs\n",
        "\n",
        "# Download the pre-trained LD reference panels\n",
        "!wget https://personal.broadinstitute.org/hhuang//public/PRS-CSx/Reference/1KG/ldblk_1kg_eur.tar.gz\n",
        "\n",
        "# Extract the downloaded files\n",
        "!tar -xzvf ldblk_1kg_eur.tar.gz\n",
        "\n",
        "# Compute PRS-CS to provide accurate SNP effect sizes ahead of individual-level PRS calculation\n",
        "!python PRScs.py \\\n",
        "        --ref_dir=/PRScs/ldblk_1kg_eur \\\n",
        "        --bim_prefix=[prefix of the QCed PLINK file] \\\n",
        "        --sst_file=[GWAS summary statistics file] \\\n",
        "        --n_gwas=[# of individuals included in GWAS] \\\n",
        "        --out_dir=[path]/[output_prefix]\n",
        "\n",
        "# PRS-CS will output the SNP effect sizes for each chromosome separately\n",
        "# To concatenate all chromosome files:\n",
        "cat [output_prefix]_pst_eff_a1_b0.5_phiauto_chr*.txt | sort -n -k1 > [output_prefix]_pst_eff_a1_b0.5_phiauto_allchr.txt\n",
        "\n",
        "# Prepare the output of PRScs so that it can be used by PLINK\n",
        "# We will use this output to generate individual-level scores for our samples an allelic scoring system involving one or more SNPs.\n",
        "\n",
        "awk '{print $2, $4, $6}' \\\n",
        "[output_prefix]_pst_eff_a1_b0.5_phiauto_allchr.txt | \\\n",
        "sed 's/ /\\t/g' > [output_prefix]_pst_eff_a1_b0.5_phiauto_allchr.PLINKscore"
      ],
      "metadata": {
        "id": "uYzK0-QoY23D"
      },
      "execution_count": null,
      "outputs": []
    },
    {
      "cell_type": "markdown",
      "source": [
        "This generates the adjusted weights of SNPs. We will download the pre-computed weights instead from Google Drive"
      ],
      "metadata": {
        "id": "Krli8FAtZCY_"
      }
    },
    {
      "cell_type": "code",
      "source": [
        "# this will generate a file named CAD_EUR_pst_eff_a1_b0.5_phiauto_allchr.PLINKscore\n",
        "!gdown --id 1X83iPlOSEAkrBvEwL1ab4m9FCj37I4_y"
      ],
      "metadata": {
        "id": "lXLmrozXZLGh"
      },
      "execution_count": null,
      "outputs": []
    },
    {
      "cell_type": "markdown",
      "source": [
        "# Scoring individuals with PRS using PLINK"
      ],
      "metadata": {
        "id": "VK0PZQCxZlvk"
      }
    },
    {
      "cell_type": "markdown",
      "source": [
        "The adjusted weights file contains how much each SNP contributes to CAD risk. We will score all 628 individuals using these weights.\n",
        "\n",
        "*   ```--score``` tells plink the PRS weights"
      ],
      "metadata": {
        "id": "qQJADvXkaX_a"
      }
    },
    {
      "cell_type": "code",
      "source": [
        "# this generates an .sscore file of a score for each individual, calculated from their genotype\n",
        "!plink2 \\\n",
        "  --bfile CAD_EUR_QCed \\\n",
        "  --pheno CAD_phenotypes.txt \\\n",
        "  --score CAD_EUR_pst_eff_a1_b0.5_phiauto_allchr.PLINKscore \\\n",
        "  --out prs_for_cad"
      ],
      "metadata": {
        "id": "kuJm5a_gazfi"
      },
      "execution_count": null,
      "outputs": []
    },
    {
      "cell_type": "markdown",
      "source": [
        "Visualize how the PRS performed."
      ],
      "metadata": {
        "id": "edT6fszubf8E"
      }
    },
    {
      "cell_type": "markdown",
      "source": [
        "We will perform a t-test to see if PRS can distinguish between cases and controls"
      ],
      "metadata": {
        "id": "ZKLL-b84bsvx"
      }
    },
    {
      "cell_type": "code",
      "source": [
        "import pandas as pd\n",
        "import matplotlib.pyplot as plt\n",
        "import seaborn as sns\n",
        "from scipy.stats import ttest_ind\n",
        "from sklearn.preprocessing import StandardScaler\n",
        "\n",
        "# Load the data into a DataFrame\n",
        "file_path = \"prs_for_cad.sscore\"  # Update the path as needed\n",
        "df = pd.read_csv(file_path, delim_whitespace=True)\n",
        "\n",
        "# Ensure the Phenotype is binary (0 for control, 1 for case)\n",
        "df['Phenotype'] = df['Phenotype'].apply(lambda x: 1 if x == 2 else 0).astype(int)\n",
        "\n",
        "# Standardize the SCORE1_AVG values\n",
        "scaler = StandardScaler()\n",
        "df['SCORE1_AVG_SCALED'] = scaler.fit_transform(df[['SCORE1_AVG']])\n",
        "\n",
        "# Split the data into cases and controls\n",
        "cases = df[df['Phenotype'] == 1]['SCORE1_AVG_SCALED']\n",
        "controls = df[df['Phenotype'] == 0]['SCORE1_AVG_SCALED']\n",
        "\n",
        "# Calculate the mean SCORE1_AVG for cases and controls\n",
        "mean_cases = df[df['Phenotype'] == 1]['SCORE1_AVG_SCALED'].mean()\n",
        "mean_controls = df[df['Phenotype'] == 0]['SCORE1_AVG_SCALED'].mean()\n",
        "\n",
        "print(f\"Mean SCORE1_AVG for cases: {mean_cases}\")\n",
        "print(f\"Mean SCORE1_AVG for controls: {mean_controls}\")\n",
        "\n",
        "# Perform t-test\n",
        "t_stat, p_val = ttest_ind(cases, controls)\n",
        "print(f\"t-statistic: {t_stat}, p-value: {p_val}\")\n",
        "\n",
        "# Set the plot style\n",
        "sns.set(style=\"white\")\n",
        "\n",
        "# Create a box plot to view the distribution of PRS\n",
        "plt.figure(figsize=(10, 6))\n",
        "ax = sns.boxplot(x=\"Phenotype\", y=\"SCORE1_AVG_SCALED\", data=df, hue=\"Phenotype\", palette=\"Set2\", legend=False)\n",
        "\n",
        "# Add annotation for the p-value\n",
        "x1, x2 = 0, 1  # x-coordinates for controls and cases\n",
        "y, h, col = df['SCORE1_AVG_SCALED'].max() + 0.1, 0.05, 'k'\n",
        "plt.plot([x1, x1, x2, x2], [y, y + h, y + h, y], lw=1.5, color=col)\n",
        "plt.text((x1 + x2) * .5, y + h, f\"p = {p_val:.3e}\", ha='center', va='bottom', color=col)\n",
        "\n",
        "plt.title('Distribution of scaled polygenic risk for CAD')\n",
        "plt.xlabel('CAD diagnosis')\n",
        "plt.ylabel('Polygenic risk for CAD')\n",
        "plt.xticks([0, 1], ['Control', 'Case'])\n",
        "plt.show()"
      ],
      "metadata": {
        "id": "66SZIzpibm_S"
      },
      "execution_count": null,
      "outputs": []
    },
    {
      "cell_type": "markdown",
      "source": [
        "PRS does not distinguish between cases and controls. This is most likely due to the fact that we used simulated dat and not real disease status."
      ],
      "metadata": {
        "id": "Nz6EPDyfb1a-"
      }
    }
  ]
}